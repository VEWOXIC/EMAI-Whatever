{
 "cells": [
  {
   "cell_type": "code",
   "execution_count": 234,
   "metadata": {
    "collapsed": true
   },
   "outputs": [],
   "source": [
    "import csv\n",
    "csv_file=open('CoolingLoad_Total18months.csv')\n",
    "csv_reader_lines = csv.reader(csv_file)\n",
    "a=[]\n",
    "number = 0\n",
    "for one_line in csv_reader_lines:\n",
    "    a.append(one_line)\n",
    "    number = number + 1"
   ]
  },
  {
   "cell_type": "code",
   "execution_count": 319,
   "outputs": [
    {
     "name": "stdout",
     "output_type": "stream",
     "text": [
      "(166, 24)\n",
      "[[1147.327831   1270.56310075 1364.17355325 ... 1537.5019415\n",
      "  1507.60595325 1263.83254825]\n",
      " [1040.146176   1076.77002425 1206.62872975 ... 1314.9919105\n",
      "  1263.10446925 1026.41066548]\n",
      " [1186.05820875 1215.757379   1227.54629275 ... 1351.92002575\n",
      "  1386.50540075 1178.6067273 ]\n",
      " ...\n",
      " [ 999.6298946   971.62949125  810.01231173 ... 1264.74225125\n",
      "  1106.78499425  672.76561625]\n",
      " [ 821.308002    839.6150309   980.47524655 ... 1062.24283633\n",
      "   962.18520075  904.46287995]\n",
      " [1014.8392135   992.10462825 1094.65785125 ... 1186.6569175\n",
      "  1186.8166205   822.70818033]]\n"
     ]
    }
   ],
   "source": [
    "from datetime import datetime\n",
    "import numpy as np\n",
    "everyday_a=[]\n",
    "total_a=[]\n",
    "before = datetime.strptime(a[1][0],'%Y/%m/%d %H:%M').strftime('%Y-%m-%d')\n",
    "number = 0\n",
    "for item in a[1:len(a)]:\n",
    "    now = datetime.strptime(item[0],'%Y/%m/%d %H:%M').strftime('%Y-%m-%d')\n",
    "    if now == before:\n",
    "        flag=1\n",
    "        for obj in item:\n",
    "            if obj == '':\n",
    "                flag = 0\n",
    "                break\n",
    "        if flag ==1:\n",
    "            everyday_a.append(item)\n",
    "            number = number + 1\n",
    "    else:\n",
    "        if number < 96:\n",
    "            everyday_a=[]\n",
    "        else:\n",
    "            total_a.append(everyday_a)\n",
    "            everyday_a=[]\n",
    "        before = now\n",
    "        flag=1\n",
    "        for obj in item:\n",
    "            if obj == '':\n",
    "                flag = 0\n",
    "                break\n",
    "        if flag ==1:\n",
    "            everyday_a.append(item)\n",
    "            number = 1\n",
    "        else: number = 0\n",
    "\n",
    "total_a = np.array(total_a)\n",
    "# print(total_a.shape)\n",
    "input_array = total_a[:,:,0:5]\n",
    "insert_array = np.array([0])\n",
    "new_input_array = []\n",
    "for item in input_array:\n",
    "    new_item = np.insert(item,5,values=insert_array,axis=1)\n",
    "    new_input_array.append(new_item)\n",
    "for item in new_input_array:\n",
    "    for each in item:\n",
    "        hours = datetime.strptime(str(each[0]),'%Y/%m/%d %H:%M').strftime('%H')\n",
    "        if 17 > int(hours) > 9:\n",
    "            each[5] = 1\n",
    "new_input_array = np.array(new_input_array)\n",
    "np.save(\"input_18month_no_nan.npy\",new_input_array[:,:,1:6])\n",
    "# loaddata = np.load(\"input_18month_no_nan.npy\")\n",
    "# print(loaddata.shape)\n",
    "# print(loaddata)\n",
    "\n",
    "output_array = total_a[:,:,7]\n",
    "output_save = []\n",
    "item_save = []\n",
    "for item in output_array:\n",
    "    new = float(item[0])\n",
    "    i = 0\n",
    "    for j in range(1,len(item)):\n",
    "        if i < 3:\n",
    "            new = new + float(item[j])\n",
    "            i =i + 1\n",
    "        else:\n",
    "            new = new/4\n",
    "            item_save.append(new)\n",
    "            i = 0\n",
    "            new = float(item[j])\n",
    "    item_save.append(new/4)\n",
    "    output_save.append(item_save)\n",
    "    item_save = []\n",
    "\n",
    "output_save = np.array(output_save)\n",
    "np.save(\"output_18month_no_nan.npy\",output_save)\n",
    "# loaddata = np.load(\"output_18month_no_nan.npy\")\n",
    "# print(loaddata.shape)\n",
    "# print(loaddata)\n",
    "\n",
    "\n",
    "\n",
    "\n",
    "\n",
    "\n",
    "\n"
   ],
   "metadata": {
    "collapsed": false,
    "pycharm": {
     "name": "#%%\n"
    }
   }
  },
  {
   "cell_type": "code",
   "execution_count": 197,
   "outputs": [
    {
     "name": "stdout",
     "output_type": "stream",
     "text": [
      "                Timestamp  Average_OAT   Humidity  UV_Index  Average_Rainfall  \\\n",
      "1368  2020-04-15 06:00:00    19.652167  65.941000       0.3               0.0   \n",
      "1369  2020-04-15 06:15:00    19.543867  65.414333       0.3               0.0   \n",
      "1370  2020-04-15 06:30:00    19.843017  64.734333       0.3               0.0   \n",
      "1371  2020-04-15 06:45:00    20.200450  64.029333       0.3               0.0   \n",
      "1372  2020-04-15 07:00:00    20.659600  62.986000       0.3               0.0   \n",
      "...                   ...          ...        ...       ...               ...   \n",
      "52603 2021-09-30 22:45:00    29.455333  89.167967       0.1               0.0   \n",
      "52604 2021-09-30 23:00:00    29.436167  89.717967       0.1               0.0   \n",
      "52605 2021-09-30 23:15:00    29.387000  90.504633       0.1               0.0   \n",
      "52606 2021-09-30 23:30:00    29.354500  89.817967       0.1               0.0   \n",
      "52607 2021-09-30 23:45:00    24.186667  75.112750       0.1               0.0   \n",
      "\n",
      "       NT_CoolingLoad  ST_CoolingLoad  CoolingLoad  \n",
      "1368        87.420668      827.408416   914.829084  \n",
      "1369        91.571828      849.956542   941.528370  \n",
      "1370       119.139792      877.774758   996.914550  \n",
      "1371       101.975949      859.381512   961.357461  \n",
      "1372        96.241718     1026.940115  1123.181833  \n",
      "...               ...             ...          ...  \n",
      "52603      776.625505      195.097557   971.723062  \n",
      "52604      884.652355      211.845727  1096.498082  \n",
      "52605     1022.535090      214.951513  1237.486603  \n",
      "52606     1003.024490      205.088922  1208.113412  \n",
      "52607      192.477415       87.231498   279.708913  \n",
      "\n",
      "[41765 rows x 8 columns]\n",
      "<class 'pandas.core.frame.DataFrame'>\n"
     ]
    }
   ],
   "source": [
    "import pandas as pd\n",
    "\n",
    "a=pd.read_csv('./CoolingLoad_Total18months.csv',parse_dates=['Timestamp'])\n",
    "a = a.dropna(axis=0,how='any')\n",
    "print(a)\n",
    "print(type(a))"
   ],
   "metadata": {
    "collapsed": false,
    "pycharm": {
     "name": "#%%\n"
    }
   }
  },
  {
   "cell_type": "code",
   "execution_count": 219,
   "outputs": [
    {
     "name": "stdout",
     "output_type": "stream",
     "text": [
      "(8298, 5, 4)\n",
      "[[[ 19.65216667  19.54386667  19.84301667  20.20045   ]\n",
      "  [ 65.941       65.41433333  64.73433333  64.02933333]\n",
      "  [  0.3          0.3          0.3          0.3       ]\n",
      "  [  0.           0.           0.           0.        ]\n",
      "  [  6.           2.         106.           0.        ]]\n",
      "\n",
      " [[ 20.6596      21.66126667  22.10293333  22.0396    ]\n",
      "  [ 62.986       59.19756667  59.6259      61.4693    ]\n",
      "  [  0.3          0.3          0.3          0.3       ]\n",
      "  [  0.           0.           0.           0.        ]\n",
      "  [  7.           2.         106.           0.        ]]\n",
      "\n",
      " [[ 22.07293333  22.29876667  22.63293333  22.83043333]\n",
      "  [ 60.47593333  59.56756667  56.09756667  56.3809    ]\n",
      "  [  0.3          0.5          0.5          0.5       ]\n",
      "  [  0.           0.           0.           0.        ]\n",
      "  [  8.           2.         106.           0.        ]]\n",
      "\n",
      " ...\n",
      "\n",
      " [[ 29.582       29.4845      29.49533333  29.41283333]\n",
      "  [ 82.1212      82.56123333  82.78786667  85.33793333]\n",
      "  [  0.4          0.4          0.4          0.4       ]\n",
      "  [  0.           0.           0.           0.        ]\n",
      "  [ 21.           2.         181.           0.        ]]\n",
      "\n",
      " [[ 29.47366667  29.4695      29.507       29.53366667]\n",
      "  [ 84.23453333  85.26123333  82.5812      82.43123333]\n",
      "  [  0.4          0.4          0.4          0.4       ]\n",
      "  [  0.           0.           0.           0.        ]\n",
      "  [ 22.           2.         181.           0.        ]]\n",
      "\n",
      " [[ 29.44783333  29.50616667  29.4645      24.18041667]\n",
      "  [ 83.03453333  83.90786667  81.56453333  68.26433333]\n",
      "  [  0.4          0.4          0.4          0.4       ]\n",
      "  [  0.           0.           0.           0.        ]\n",
      "  [ 23.           2.         181.           0.        ]]]\n"
     ]
    }
   ],
   "source": [
    "import numpy as np\n",
    "loaddata = np.load(\"inputn.npy\")\n",
    "print(loaddata.shape)\n",
    "print(loaddata)"
   ],
   "metadata": {
    "collapsed": false,
    "pycharm": {
     "name": "#%%\n"
    }
   }
  }
 ],
 "metadata": {
  "kernelspec": {
   "display_name": "Python 3",
   "language": "python",
   "name": "python3"
  },
  "language_info": {
   "codemirror_mode": {
    "name": "ipython",
    "version": 2
   },
   "file_extension": ".py",
   "mimetype": "text/x-python",
   "name": "python",
   "nbconvert_exporter": "python",
   "pygments_lexer": "ipython2",
   "version": "2.7.6"
  }
 },
 "nbformat": 4,
 "nbformat_minor": 0
}